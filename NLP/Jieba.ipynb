{
 "cells": [
  {
   "cell_type": "code",
   "execution_count": 22,
   "metadata": {},
   "outputs": [],
   "source": [
    "import jieba\n",
    "import re\n",
    "from nltk.tokenize import RegexpTokenizer\n",
    "from nltk.tokenize import word_tokenize, sent_tokenize, regexp_tokenize"
   ]
  },
  {
   "cell_type": "code",
   "execution_count": 60,
   "metadata": {},
   "outputs": [],
   "source": [
    "def is_alpha(word):\n",
    "    try:\n",
    "        return word.encode(\"ascii\").isalpha()\n",
    "    except:\n",
    "        return False\n",
    "    \n",
    "def tokenize(t):\n",
    "    text = t\n",
    "    #text = re.sub(r\"\\s+\", \" \", text)\n",
    "    text = regexp_tokenize(text, r'\\w+')\n",
    "    text = [t for t in text if (not t.isdigit() and not is_alpha(t))]\n",
    "    text = \" \".join(text)\n",
    "\n",
    "    print(text, '\\n')\n",
    "\n",
    "    words = jieba.lcut(text)\n",
    "    words = [w for w in words if w.strip()]\n",
    "    return words"
   ]
  },
  {
   "cell_type": "code",
   "execution_count": 61,
   "metadata": {},
   "outputs": [
    {
     "name": "stdout",
     "output_type": "stream",
     "text": [
      "開工日期 估價 完工日期 請根據以下指示 安排維修工作 全層 門 換實心木門連框五金油色 附加備註 89m2 本項目完 外圍地方 專責人員 姓名 職位 HE25 批核人員 姓名 職位 HE25 出單日期 通知完工 完工備註 茲証明此小型維修工程已於今天完工 簽署 姓名 日期 HD578 \n",
      "\n",
      "['開工', '日期', '估價', '完工', '日期', '請', '根據', '以下', '指示', '安排', '維修', '工作', '全層', '門', '換實', '心木', '門連框', '五金', '油色', '附加', '備', '註', '89m2', '本項', '目完', '外圍', '地方', '專責', '人員', '姓名', '職位', 'HE25', '批核', '人員', '姓名', '職位', 'HE25', '出單', '日期', '通知', '完工', '完工', '備', '註', '茲', '証', '明', '此', '小型', '維修', '工程', '已', '於', '今天', '完工', '簽署', '姓名', '日期', 'HD578']\n"
     ]
    }
   ],
   "source": [
    "text = \"開工日期 : 31/12/2018 估價 ($) 完工日期  5,038.76 09/01/2019  1. 請根據以下指示, 安排維修工作  ~~~~~~~~~~~~~~~~~~~~~~  1. 全層 門 換實心木門連框五金油色 2 sqm  附加備註: Replace total 2 nos. of timber doorset (2050 x 920 x 50 thk.; 1.89m2) inside  the G/F refuse room of Man Fu and Man Chak at Hing Man Estate.『本項目完』  @Location Remark: 外圍地方; G/F Refuse Room; G/F Refuse Room  專責人員 : 姓名 YEUNG, MR. TZE FUNG 職位 : ACW/HE25  批核人員 : 姓名 YEUNG, MR. TZE FUNG 職位 : ACW/HE25  出單日期 : 28/12/2018  通知完工 完工備註 :  茲証明此小型維修工程已於今天完工  簽署 : 姓名 : 日期 :  HD578 (TMS)    \"\n",
    "words = tokenize(text)\n",
    "print(words)"
   ]
  },
  {
   "cell_type": "code",
   "execution_count": null,
   "metadata": {},
   "outputs": [],
   "source": []
  }
 ],
 "metadata": {
  "kernelspec": {
   "display_name": "Python 3",
   "language": "python",
   "name": "python3"
  },
  "language_info": {
   "codemirror_mode": {
    "name": "ipython",
    "version": 3
   },
   "file_extension": ".py",
   "mimetype": "text/x-python",
   "name": "python",
   "nbconvert_exporter": "python",
   "pygments_lexer": "ipython3",
   "version": "3.7.3"
  }
 },
 "nbformat": 4,
 "nbformat_minor": 2
}
