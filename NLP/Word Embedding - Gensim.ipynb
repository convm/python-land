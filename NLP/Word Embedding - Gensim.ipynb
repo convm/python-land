{
 "cells": [
  {
   "cell_type": "code",
   "execution_count": 2,
   "metadata": {},
   "outputs": [],
   "source": [
    "from nltk.tokenize import sent_tokenize, word_tokenize\n",
    "import warnings\n",
    "\n",
    "warnings.filterwarnings(action='ignore')"
   ]
  },
  {
   "cell_type": "code",
   "execution_count": 3,
   "metadata": {},
   "outputs": [],
   "source": [
    "import gensim\n",
    "from gensim.models import Word2Vec"
   ]
  },
  {
   "cell_type": "code",
   "execution_count": 252,
   "metadata": {},
   "outputs": [],
   "source": [
    "sample = open('alice.txt', 'r', encoding='utf-8')\n",
    "s = sample.read()"
   ]
  },
  {
   "cell_type": "code",
   "execution_count": 253,
   "metadata": {},
   "outputs": [],
   "source": [
    "# f = s.replace(\"\\n\", \" \")"
   ]
  },
  {
   "cell_type": "code",
   "execution_count": 254,
   "metadata": {},
   "outputs": [],
   "source": [
    "paragraphs = [p for p in s.split(\"\\n\\n\") if p]"
   ]
  },
  {
   "cell_type": "code",
   "execution_count": 255,
   "metadata": {},
   "outputs": [],
   "source": [
    "data = []\n",
    "\n",
    "for f in paragraphs:\n",
    "    for i in sent_tokenize(f):\n",
    "        temp = []\n",
    "\n",
    "        for j in word_tokenize(i):\n",
    "            temp.append(j.lower())\n",
    "\n",
    "        data.append(temp)"
   ]
  },
  {
   "cell_type": "code",
   "execution_count": 256,
   "metadata": {},
   "outputs": [
    {
     "data": {
      "text/plain": [
       "1512"
      ]
     },
     "execution_count": 256,
     "metadata": {},
     "output_type": "execute_result"
    }
   ],
   "source": [
    "len(data)"
   ]
  },
  {
   "cell_type": "code",
   "execution_count": 257,
   "metadata": {
    "scrolled": false
   },
   "outputs": [
    {
     "data": {
      "text/plain": [
       "['project',\n",
       " 'gutenberg',\n",
       " '’',\n",
       " 's',\n",
       " 'alice',\n",
       " '’',\n",
       " 's',\n",
       " 'adventures',\n",
       " 'in',\n",
       " 'wonderland',\n",
       " ',',\n",
       " 'by',\n",
       " 'lewis',\n",
       " 'carroll']"
      ]
     },
     "execution_count": 257,
     "metadata": {},
     "output_type": "execute_result"
    }
   ],
   "source": [
    "data[0]"
   ]
  },
  {
   "cell_type": "code",
   "execution_count": 258,
   "metadata": {},
   "outputs": [],
   "source": [
    "def print_similarity(model, word1, word2):\n",
    "    print(\"Cosine similarity between '{}' and '{}' - CBOW : {}\".format(\n",
    "         word1, word2, model.similarity(word1, word2)))"
   ]
  },
  {
   "cell_type": "code",
   "execution_count": 297,
   "metadata": {},
   "outputs": [],
   "source": [
    "model1 = gensim.models.Word2Vec(data, min_count=1, size=50, window=3, iter=70)"
   ]
  },
  {
   "cell_type": "code",
   "execution_count": 298,
   "metadata": {
    "scrolled": true
   },
   "outputs": [
    {
     "name": "stdout",
     "output_type": "stream",
     "text": [
      "Cosine similarity between 'alice' and 'wonderland' - CBOW : 0.1713915765285492\n",
      "Cosine similarity between 'alice' and 'rabbit' - CBOW : 0.3552091717720032\n",
      "Cosine similarity between 'queen' and 'king' - CBOW : 0.7705607414245605\n"
     ]
    }
   ],
   "source": [
    "print_similarity(model1, 'alice', 'wonderland')\n",
    "print_similarity(model1, 'alice', 'rabbit')\n",
    "print_similarity(model1, 'queen', 'king')"
   ]
  },
  {
   "cell_type": "code",
   "execution_count": 304,
   "metadata": {},
   "outputs": [],
   "source": [
    "model2 = gensim.models.Word2Vec(data, min_count=1, size=100, window=5, sg=1, iter=50)"
   ]
  },
  {
   "cell_type": "code",
   "execution_count": 306,
   "metadata": {},
   "outputs": [
    {
     "name": "stdout",
     "output_type": "stream",
     "text": [
      "Cosine similarity between 'alice' and 'wonderland' - CBOW : 0.35867762565612793\n",
      "Cosine similarity between 'alice' and 'machines' - CBOW : 0.17857927083969116\n",
      "Cosine similarity between 'little' and 'sisters' - CBOW : 0.19960084557533264\n"
     ]
    }
   ],
   "source": [
    "print_similarity(model2, 'alice', 'wonderland')\n",
    "print_similarity(model2, 'alice', 'machines')\n",
    "print_similarity(model2, 'little', 'sisters')"
   ]
  },
  {
   "cell_type": "code",
   "execution_count": null,
   "metadata": {},
   "outputs": [],
   "source": []
  }
 ],
 "metadata": {
  "kernelspec": {
   "display_name": "Python 3",
   "language": "python",
   "name": "python3"
  },
  "language_info": {
   "codemirror_mode": {
    "name": "ipython",
    "version": 3
   },
   "file_extension": ".py",
   "mimetype": "text/x-python",
   "name": "python",
   "nbconvert_exporter": "python",
   "pygments_lexer": "ipython3",
   "version": "3.7.3"
  }
 },
 "nbformat": 4,
 "nbformat_minor": 2
}
