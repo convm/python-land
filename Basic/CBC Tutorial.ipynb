{
 "cells": [
  {
   "cell_type": "code",
   "execution_count": null,
   "metadata": {},
   "outputs": [],
   "source": [
    "import numpy as np\n",
    "import pandas as pd"
   ]
  },
  {
   "cell_type": "markdown",
   "metadata": {},
   "source": [
    "## int, float, bool, string\n",
    "## list, tuple, set, dictionary\n",
    "## file"
   ]
  },
  {
   "cell_type": "code",
   "execution_count": null,
   "metadata": {},
   "outputs": [],
   "source": [
    "#Comparison Operators\n",
    "\n",
    "x = 15\n",
    "y = 4\n",
    "\n",
    "print ('x + y = ', x + y)\n",
    "print ('x - y = ', x - y)\n",
    "print ('x * y = ', x * y)\n",
    "print ('x / y = ', x / y)\n",
    "print ('x // y = ', x // y)\n",
    "print ('x ** y = ', x ** y )"
   ]
  },
  {
   "cell_type": "code",
   "execution_count": null,
   "metadata": {},
   "outputs": [],
   "source": [
    "#Comparison Operators\n",
    "\n",
    "a = 21 \n",
    "b = 10\n",
    "c = 0\n",
    "\n",
    "c = a + b\n",
    "print(\"Line 1 - Value of c is \", c)\n",
    "\n",
    "c += a\n",
    "print(\"Line 2 - Value of c is \", c)\n",
    "\n",
    "c *= a\n",
    "print(\"Line 3 - Value of c is \", c)\n",
    "\n",
    "c /= a\n",
    "print(\"Line 4 - Value of c is \", c)\n",
    "\n",
    "c = 2\n",
    "c %= a\n",
    "print(\"Line 5 - Value of c is \", c)\n",
    "\n",
    "c **= a\n",
    "print(\"Line 6 - Value of c is \", c)\n",
    "\n",
    "c //= a\n",
    "print(\"Line 7 - Value of c is \", c)"
   ]
  },
  {
   "cell_type": "code",
   "execution_count": null,
   "metadata": {
    "scrolled": true
   },
   "outputs": [],
   "source": [
    "#the difference between / and // operator results \n",
    "\n",
    "print(10/2)\n",
    "print(10//2)\n",
    "\n",
    "print(10/3)\n",
    "print(10//3)\n",
    "\n",
    "print(10/3.0)\n",
    "print(10//3.0)\n",
    "\n",
    "print(-10/3)\n",
    "print(-10//3)\n",
    "\n",
    "print(-10/3.0)\n",
    "print(-10//3.0)"
   ]
  },
  {
   "cell_type": "code",
   "execution_count": null,
   "metadata": {},
   "outputs": [],
   "source": [
    "#Comparison Operators\n",
    "\n",
    "a = 21\n",
    "b = 10\n",
    "c = 0\n",
    "\n",
    "if ( a == b ):\n",
    "    print (\"Line 1 - a is equal to b\")\n",
    "else:\n",
    "    print (\"Line 1 - a is not equal to b\")\n",
    "\n",
    "if ( a != b ):\n",
    "    print (\"Line 2 - a is not equal to b\")\n",
    "else:\n",
    "    print (\"Line 2 - a is equal to b\")\n",
    "    \n",
    "if ( a < b ):\n",
    "    print (\"Line 3 - a is less than b\")\n",
    "else:\n",
    "    print (\"Line 3 - a is not less than b\")\n",
    "\n",
    "if ( a > b ):\n",
    "    print (\"Line 4 - a is greater than b\")\n",
    "else:\n",
    "    print (\"Line 4 - a is note greater than b\")\n",
    "    \n",
    "a = 5\n",
    "b = 20\n",
    "if ( a <= b ):\n",
    "    print (\"Line 5 - a is either less than or equal to b\")\n",
    "else:\n",
    "    print (\"Line 5 - a is neither less than nor equal to b\")\n",
    "\n",
    "if ( b >= a ):\n",
    "    print (\"Line 6 - b is either greater than or equal to a\")\n",
    "else:\n",
    "    print (\"Line 6 - b is neither greater than nor equal to a\")    "
   ]
  },
  {
   "cell_type": "code",
   "execution_count": null,
   "metadata": {},
   "outputs": [],
   "source": []
  },
  {
   "cell_type": "code",
   "execution_count": null,
   "metadata": {},
   "outputs": [],
   "source": [
    "#string concatenation operator\n",
    "name ='My Name is Mike'\n",
    "print(name[0])\n",
    "print(name[1])\n",
    "print(name[2])\n",
    "print(name[3])\n",
    "print(name[4])\n",
    "print(name[5])\n",
    "print(name[6])\n",
    "print(name[7])\n",
    "print(name[8])\n",
    "print(name[9])\n",
    "print(name[-1])"
   ]
  },
  {
   "cell_type": "code",
   "execution_count": null,
   "metadata": {},
   "outputs": [],
   "source": [
    "s = \"Hello World!\"\n",
    "\n",
    "print(s)            #Prints complete string\n",
    "print(s[0])         #Prints first character of the string\n",
    "print(s[2:5])       #Prints characters starting from 3rd to 5th\n",
    "print(s[2:])        #Prints string starting from 3rd character\n",
    "print(s * 2)        #Prints string two times\n",
    "print(s + \"TEST\")   #Prints concatenated string"
   ]
  },
  {
   "cell_type": "code",
   "execution_count": null,
   "metadata": {},
   "outputs": [],
   "source": [
    "#Subsets of strings can be taken using the slice operator ([] and [:])\n",
    "name ='My Name is Mike'\n",
    "print(name[11:14])\n",
    "print(name[11:15])\n",
    "\n",
    "print(\"B\" in name)\n",
    "print(\"e\" in name)\n",
    "print(len(name))"
   ]
  },
  {
   "cell_type": "code",
   "execution_count": null,
   "metadata": {},
   "outputs": [],
   "source": [
    "#Cone + cat + ten + ate\n",
    "\n",
    "boo= \"cone\" + \"cat\" + \"ten\" + \"ate\"\n",
    "print (boo) \n",
    "\n",
    "foo = \"one\"\n",
    "bar = \"two\"\n",
    "full = foo + \" \" + bar\n",
    "print (full)\n",
    "\n",
    "foo = \"foo \" * 3\n",
    "print (foo)"
   ]
  },
  {
   "cell_type": "code",
   "execution_count": null,
   "metadata": {},
   "outputs": [],
   "source": [
    "#Membership Operators\n",
    "\n",
    "x = 'Hello world'\n",
    "y = { 1:'a', 2:'b' }\n",
    "\n",
    "#Output: True\n",
    "print ('H' in x)\n",
    "\n",
    "#Output: True\n",
    "print ('hello' not in x)\n",
    "\n",
    "#Output: True\n",
    "print (1 in y)\n",
    "\n",
    "#Output: False\n",
    "print ('a' in y)\n",
    "\n",
    "#Output: True\n",
    "print ('a' in y.values())"
   ]
  },
  {
   "cell_type": "markdown",
   "metadata": {},
   "source": [
    "## List, Tuple, Set, Dictionary"
   ]
  },
  {
   "cell_type": "code",
   "execution_count": null,
   "metadata": {},
   "outputs": [],
   "source": [
    "#Lists are enclosed in brackets  [ ]  and their elements and size can be changed\n",
    "alist = ['abcd', 786, 2.23, 'john', 70.2]\n",
    "tinylist =[123, 'john']\n",
    "\n",
    "print(alist)              #Prints complete list\n",
    "print(alist[0])           #Prints first elements of the list\n",
    "print(alist[1:3])         #Prints elements starting from 2nd till 3rd\n",
    "print(alist[2:])          #Prints elements starting from 3rd element  \n",
    "print(tinylist*2)        #Prints list two times\n",
    "print(alist + tinylist)   #Prints concatenated lists"
   ]
  },
  {
   "cell_type": "code",
   "execution_count": null,
   "metadata": {},
   "outputs": [],
   "source": [
    "#Tuples are enclosed in parentheses ( ) and cannot be updated\n",
    "atuple = ('abcd', 786, 2.23, 'john', 70.2)\n",
    "tinytuple = (123, 'john')\n",
    "\n",
    "print(atuple)              #Prints complete list\n",
    "print(atuple[0])           #Prints first elements of the list\n",
    "print(atuple[1:3])         #Prints elements starting from 2nd till 3rd\n",
    "print(atuple[2:])          #Prints elements starting from 3rd element  \n",
    "print(tinytuple*2)        #Prints list two times\n",
    "print(atuple + tinytuple)   #Prints concatenated lists"
   ]
  },
  {
   "cell_type": "code",
   "execution_count": null,
   "metadata": {},
   "outputs": [],
   "source": [
    "# Set\n",
    "alist = [1, 2, 2, 3, 4, 5, 5, 5, 6]\n",
    "s = set(alist)\n",
    "print(s)"
   ]
  },
  {
   "cell_type": "code",
   "execution_count": null,
   "metadata": {},
   "outputs": [],
   "source": [
    "#Data Types : Python DICTIONARIES\n",
    "\n",
    "dict = {}\n",
    "dict['one'] = \"This is one\"\n",
    "dict[2] = \"This is two\"\n",
    "\n",
    "tinydict = { 'name':'john', 'code':6734, 'dept':'sales' }\n",
    "\n",
    "print(dict['one'])        #Prints value for 'one'  key\n",
    "print(dict[2])            #Prints value for 2 key\n",
    "print(tinydict)           #Prints complete dictionary\n",
    "print(tinydict.keys())    #Prints all the keys \n",
    "print(tinydict.values())  #Prints all the values \n",
    "\n",
    "#print a dictionary line by line\n",
    "for x in tinydict:\n",
    "    print (x, tinydict[x])"
   ]
  },
  {
   "cell_type": "code",
   "execution_count": null,
   "metadata": {},
   "outputs": [],
   "source": []
  },
  {
   "cell_type": "markdown",
   "metadata": {},
   "source": [
    "# Function Parameter Passing"
   ]
  },
  {
   "cell_type": "code",
   "execution_count": null,
   "metadata": {
    "scrolled": true
   },
   "outputs": [],
   "source": [
    "def add(x1, x2):\n",
    "    y = x1 + x2\n",
    "    return y\n",
    "\n",
    "print(add(1, 2))\n",
    "\n",
    "a, b = 3, 5\n",
    "print(add(a, b))"
   ]
  },
  {
   "cell_type": "code",
   "execution_count": null,
   "metadata": {},
   "outputs": [],
   "source": [
    "def do_something(x1):\n",
    "    print('The input value is:', x1)\n",
    "    print('The input value is: ' + str(x1))\n",
    "    print('The input value is: {}'.format(x1))\n",
    "    print('The input value is: {:,.2f}'.format(x1))\n",
    "    \n",
    "do_something(10000)"
   ]
  },
  {
   "cell_type": "code",
   "execution_count": null,
   "metadata": {},
   "outputs": [],
   "source": [
    "a = 1\n",
    "\n",
    "def fx01(x):\n",
    "    x = 100\n",
    "    print(x)\n",
    "    \n",
    "fx01(a)\n",
    "print(a)"
   ]
  },
  {
   "cell_type": "code",
   "execution_count": null,
   "metadata": {},
   "outputs": [],
   "source": [
    "a = 10.87\n",
    "\n",
    "def fx01(x):\n",
    "    x = 23.88\n",
    "    print(x)\n",
    "    \n",
    "fx01(a)\n",
    "print(a)"
   ]
  },
  {
   "cell_type": "code",
   "execution_count": null,
   "metadata": {},
   "outputs": [],
   "source": [
    "a = True\n",
    "\n",
    "def fx01(x):\n",
    "    x = False\n",
    "    print(x)\n",
    "    \n",
    "fx01(a)\n",
    "print(a)"
   ]
  },
  {
   "cell_type": "code",
   "execution_count": null,
   "metadata": {},
   "outputs": [],
   "source": [
    "l = [1, 2, 3]\n",
    "\n",
    "def fx02(l):\n",
    "    l.append(10)\n",
    "    print(l)\n",
    "    \n",
    "fx02(l)\n",
    "print(l)"
   ]
  },
  {
   "cell_type": "code",
   "execution_count": null,
   "metadata": {},
   "outputs": [],
   "source": [
    "l = [1, 2, 3]\n",
    "\n",
    "def fx03(l):\n",
    "    l = l.copy()\n",
    "    l.append(10)\n",
    "    print(l)\n",
    "    \n",
    "fx03(l)\n",
    "print(l)"
   ]
  },
  {
   "cell_type": "markdown",
   "metadata": {},
   "source": [
    "# Advanced Operations"
   ]
  },
  {
   "cell_type": "code",
   "execution_count": null,
   "metadata": {},
   "outputs": [],
   "source": [
    "# zip\n",
    "a = ['Wilson', 'Peter', 'Mary']\n",
    "b = [170, 180, 150]\n",
    "c = ['1-Jan-1980', '20-May-1994', '18-Nov-2018']\n",
    "\n",
    "result = list(zip(a, b, c))\n",
    "print(result)\n",
    "\n",
    "df = pd.DataFrame(result, columns=['Name', 'Height', 'Birthday'])\n",
    "df"
   ]
  },
  {
   "cell_type": "code",
   "execution_count": null,
   "metadata": {},
   "outputs": [],
   "source": [
    "# zip \n",
    "\n",
    "a = ['a', 'b', 'c']\n",
    "b = [1, 2, 3]\n",
    "c = [10, 20, 30]\n",
    "\n",
    "# l = np.concatenate((a, b, c))\n",
    "# l = l.reshape(3, 3)\n",
    "# l = np.transpose(l)\n",
    "\n",
    "l = np.vstack((a, b, c)).T\n",
    "\n",
    "l == list(zip(a, b, c)"
   ]
  },
  {
   "cell_type": "code",
   "execution_count": null,
   "metadata": {},
   "outputs": [],
   "source": [
    "# group by consecutive numbers\n",
    "\n",
    "from operator import itemgetter\n",
    "from itertools import groupby\n",
    "\n",
    "def group_by_consecutive(l):\n",
    "    y = list()\n",
    "    for k, g in groupby(enumerate(l), lambda x : x[0] - x[1]):\n",
    "        x = list(map(itemgetter(1), g))\n",
    "        y.append(x)\n",
    "    return y\n",
    "\n",
    "\n",
    "l = [1, 2, 3, 4, 5, 10, 11, 22, 23, 24, 25, 50, 51, 52, 53, 54, 55, 56, 57, 59, 60, 61, 77, 78, 79, 80]\n",
    "y = group_by_consecutive(l)\n",
    "\n",
    "for g in y:\n",
    "    print(g)"
   ]
  },
  {
   "cell_type": "markdown",
   "metadata": {},
   "source": [
    "# OS Environment Variables"
   ]
  },
  {
   "cell_type": "code",
   "execution_count": 11,
   "metadata": {},
   "outputs": [
    {
     "name": "stdout",
     "output_type": "stream",
     "text": [
      "C:\\Users\\wilson\\Desktop\\Datasets\n"
     ]
    }
   ],
   "source": [
    "import os\n",
    "print(os.environ['DsPath'])"
   ]
  },
  {
   "cell_type": "code",
   "execution_count": 14,
   "metadata": {},
   "outputs": [
    {
     "name": "stdout",
     "output_type": "stream",
     "text": [
      "C:\\Users\\wilson\\Desktop\\Datasets\\StaffLeave\\staff leave.csv\n"
     ]
    }
   ],
   "source": [
    "path = os.path.expandvars('%DsPath%\\StaffLeave\\staff leave.csv')\n",
    "print(path)"
   ]
  },
  {
   "cell_type": "code",
   "execution_count": 13,
   "metadata": {
    "scrolled": true
   },
   "outputs": [
    {
     "data": {
      "text/html": [
       "<div>\n",
       "<style scoped>\n",
       "    .dataframe tbody tr th:only-of-type {\n",
       "        vertical-align: middle;\n",
       "    }\n",
       "\n",
       "    .dataframe tbody tr th {\n",
       "        vertical-align: top;\n",
       "    }\n",
       "\n",
       "    .dataframe thead th {\n",
       "        text-align: right;\n",
       "    }\n",
       "</style>\n",
       "<table border=\"1\" class=\"dataframe\">\n",
       "  <thead>\n",
       "    <tr style=\"text-align: right;\">\n",
       "      <th></th>\n",
       "      <th>Name</th>\n",
       "      <th>From</th>\n",
       "      <th>To</th>\n",
       "      <th>Count</th>\n",
       "      <th>Type</th>\n",
       "    </tr>\n",
       "  </thead>\n",
       "  <tbody>\n",
       "    <tr>\n",
       "      <th>0</th>\n",
       "      <td>Alex Chung C. C.</td>\n",
       "      <td>24-Jan-18</td>\n",
       "      <td>24-Jan-18</td>\n",
       "      <td>0.5</td>\n",
       "      <td>A</td>\n",
       "    </tr>\n",
       "    <tr>\n",
       "      <th>1</th>\n",
       "      <td>Alex Chung C. C.</td>\n",
       "      <td>17-May-18</td>\n",
       "      <td>17-May-18</td>\n",
       "      <td>0.5</td>\n",
       "      <td>A</td>\n",
       "    </tr>\n",
       "    <tr>\n",
       "      <th>2</th>\n",
       "      <td>Alex Chung C. C.</td>\n",
       "      <td>19-May-18</td>\n",
       "      <td>30-May-18</td>\n",
       "      <td>7.5</td>\n",
       "      <td>A</td>\n",
       "    </tr>\n",
       "    <tr>\n",
       "      <th>3</th>\n",
       "      <td>Alex Chung C. C.</td>\n",
       "      <td>11-Jun-18</td>\n",
       "      <td>11-Jun-18</td>\n",
       "      <td>0.5</td>\n",
       "      <td>A</td>\n",
       "    </tr>\n",
       "    <tr>\n",
       "      <th>4</th>\n",
       "      <td>Alex Chung C. C.</td>\n",
       "      <td>14-Jun-18</td>\n",
       "      <td>14-Jun-18</td>\n",
       "      <td>0.5</td>\n",
       "      <td>A</td>\n",
       "    </tr>\n",
       "  </tbody>\n",
       "</table>\n",
       "</div>"
      ],
      "text/plain": [
       "               Name       From         To  Count Type\n",
       "0  Alex Chung C. C.  24-Jan-18  24-Jan-18    0.5    A\n",
       "1  Alex Chung C. C.  17-May-18  17-May-18    0.5    A\n",
       "2  Alex Chung C. C.  19-May-18  30-May-18    7.5    A\n",
       "3  Alex Chung C. C.  11-Jun-18  11-Jun-18    0.5    A\n",
       "4  Alex Chung C. C.  14-Jun-18  14-Jun-18    0.5    A"
      ]
     },
     "execution_count": 13,
     "metadata": {},
     "output_type": "execute_result"
    }
   ],
   "source": [
    "import pandas as pd\n",
    "df = pd.read_csv(os.path.expandvars('%DsPath%\\StaffLeave\\staff leave.csv'))\n",
    "df.head()"
   ]
  },
  {
   "cell_type": "code",
   "execution_count": null,
   "metadata": {},
   "outputs": [],
   "source": []
  }
 ],
 "metadata": {
  "kernelspec": {
   "display_name": "Python 3",
   "language": "python",
   "name": "python3"
  },
  "language_info": {
   "codemirror_mode": {
    "name": "ipython",
    "version": 3
   },
   "file_extension": ".py",
   "mimetype": "text/x-python",
   "name": "python",
   "nbconvert_exporter": "python",
   "pygments_lexer": "ipython3",
   "version": "3.6.8rc1"
  }
 },
 "nbformat": 4,
 "nbformat_minor": 2
}
